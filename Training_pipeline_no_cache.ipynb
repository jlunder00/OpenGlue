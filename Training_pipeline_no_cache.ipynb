{
 "cells": [
  {
   "cell_type": "markdown",
   "id": "7f564a68-49d4-4270-8fa2-e6f0ab958f21",
   "metadata": {},
   "source": [
    "# OpenGlue Pipeline with no pre-extraction\n",
    "In this pipeline, we train the model without preforming feature extraction prior to training. Instead, feature extraction is done during training. "
   ]
  },
  {
   "cell_type": "markdown",
   "id": "65fd9428-c9d1-4618-aff7-6adc3fac088e",
   "metadata": {},
   "source": [
    "# Training with no pre-extraction"
   ]
  },
  {
   "cell_type": "markdown",
   "id": "ccfc9a36-b21c-4187-b7c6-3682ce20e6f0",
   "metadata": {},
   "source": [
    "#### Configuration Options\n",
    "\n",
    "See [`CONFIGURATIONS.md`](CONFIGURATIONS.md) for configuration details. Please ensure all config options are set properly prior to training. For no pre-extraction, config/config.yaml will be used as default, but if you specify a different config file in the arguments, then it will be merged with config/config.yaml, overwritting such that the settings in the specified config file are kept over the conflicting ones in config/config.yaml."
   ]
  },
  {
   "cell_type": "markdown",
   "id": "827b844d-6f5f-4522-9380-3f24b7da4027",
   "metadata": {
    "tags": []
   },
   "source": [
    "#### Selecting a Feature Extractor\n",
    "\n",
    "To choose a specific feature extractor for pre-extraction or realtime extraction, you specify the filepath to the config file for that feature extractor, containing neccessary configurations and a filepath to the model weights if applicable. 3 of these extractors, the superpoint extractors, use pretrained models, while the others do not. It is reccommended to use one of these 3: superpoint_magicleap, superpoint_kitti, or superpoint_coco. These are differentiated by the dataset that was used to train them. 2 sets of default extractors are included, one in config/features/ and one in config/features_online/<br />\n",
    "In config/features/, the extractors are configured to run with a higher number of maximum keypoints. For the superpoint extractors, this is set at 2048 keypoints. In features online, the extractors are configured to run with a lower number of maximum keypoints, which helps reduce runtime and memory utilization. For the superpoint extractors, this is 1024 keypoints. <br/><br/>\n",
    "For training without cached features, maximum keypoints are capped at 1024, so it is reccommended to choose a feature extractor from config/features_online/."
   ]
  },
  {
   "cell_type": "code",
   "execution_count": 1,
   "id": "89b4874d-de3c-4e72-877c-5495eba0be10",
   "metadata": {
    "tags": []
   },
   "outputs": [
    {
     "name": "stderr",
     "output_type": "stream",
     "text": [
      "/root/code/OpenGlue/lib/python3.8/site-packages/tqdm/auto.py:22: TqdmWarning: IProgress not found. Please update jupyter and ipywidgets. See https://ipywidgets.readthedocs.io/en/stable/user_install.html\n",
      "  from .autonotebook import tqdm as notebook_tqdm\n"
     ]
    }
   ],
   "source": [
    "#From train.py\n",
    "'''\n",
    "    Modified strategy to make compatible with interactive python runtime\n",
    "    Modified input from command line via argparse to directly passed variables more suitable for jupyter\n",
    "'''\n",
    "\n",
    "import torch\n",
    "import shutup\n",
    "\n",
    "shutup.please()\n",
    "import os\n",
    "from datetime import datetime\n",
    "from omegaconf import OmegaConf\n",
    "import pytorch_lightning as pl\n",
    "\n",
    "#Modified from importing DDPPlugin (depreciates)\n",
    "from pytorch_lightning.strategies import DataParallelStrategy\n",
    "\n",
    "from data.megadepth_datamodule import MegaDepthPairsDataModule\n",
    "from models.matching_module import MatchingTrainingModule\n",
    "from utils.train_utils import get_training_loggers, get_training_callbacks, prepare_logging_directory\n",
    "\n",
    "\n",
    "def train(config_path, features_config_path):\n",
    "    # Load config\n",
    "    config = OmegaConf.load('config/config.yaml')  # base config\n",
    "    feature_extractor_config = OmegaConf.load(features_config_path)\n",
    "    if config_path != 'config/config.yaml':\n",
    "        add_conf = OmegaConf.load(config_path)\n",
    "        config = OmegaConf.merge(config, add_conf)\n",
    "\n",
    "    pl.seed_everything(int(os.environ.get('LOCAL_RANK', 0)))\n",
    "\n",
    "    # Prepare directory for logs and checkpoints\n",
    "    # Added pathing option in config file to give ability to move experiment location out of log directory through 'experiments_root_path'\n",
    "    if os.environ.get('LOCAL_RANK', 0) == 0:\n",
    "        experiment_name = '{}__attn_{}__laf_{}__{}'.format(\n",
    "            #config['data']['experiments_root_path'],\n",
    "            feature_extractor_config['name'],\n",
    "            config['superglue']['attention_gnn']['attention'],\n",
    "            config['superglue']['laf_to_sideinfo_method'],\n",
    "            str(datetime.now().strftime(\"%Y-%m-%d-%H-%M-%S\"))\n",
    "        )\n",
    "        log_path = prepare_logging_directory(config, experiment_name, features_config=feature_extractor_config)\n",
    "    else:\n",
    "        experiment_name, log_path = '', ''\n",
    "\n",
    "    # Init Lightning Data Module\n",
    "    data_config = config['data']\n",
    "    dm = MegaDepthPairsDataModule(\n",
    "        root_path=data_config['root_path'],\n",
    "        train_list_path=data_config['train_list_path'],\n",
    "        val_list_path=data_config['val_list_path'],\n",
    "        test_list_path=data_config['test_list_path'],\n",
    "        batch_size=data_config['batch_size_per_gpu'],\n",
    "        num_workers=data_config['dataloader_workers_per_gpu'],\n",
    "        target_size=data_config['target_size'],\n",
    "        val_max_pairs_per_scene=data_config['val_max_pairs_per_scene'],\n",
    "        train_pairs_overlap=data_config.get('train_pairs_overlap')\n",
    "    )\n",
    "\n",
    "    # Init model\n",
    "    model = MatchingTrainingModule(\n",
    "        train_config={**config['train'], **config['inference'], **config['evaluation']},\n",
    "        features_config=feature_extractor_config,\n",
    "        superglue_config=config['superglue'],\n",
    "    )\n",
    "\n",
    "    # Set callbacks and loggers\n",
    "    callbacks = get_training_callbacks(config, log_path, experiment_name)\n",
    "    loggers = get_training_loggers(config, log_path, experiment_name)\n",
    "\n",
    "    # Init trainer\n",
    "    # Replace accelerator='ddp' with gpu, and replace plugins=DDPPlugin() with strategy=DataParallelStrategy() to comply with\n",
    "    # Pytorch lightning updates and make model compatible with interactive python runtime\n",
    "    trainer = pl.Trainer(\n",
    "        gpus=config['gpus'],\n",
    "        max_epochs=config['train']['epochs'],\n",
    "        \n",
    "        #Vital, with any other accelerator than gpu or no accelerator (while using DataParallelStrategy), \n",
    "        #resultant model will not be usable for inference test\n",
    "        accelerator=\"gpu\", \n",
    "        \n",
    "        gradient_clip_val=config['train']['grad_clip'],\n",
    "        log_every_n_steps=config['logging']['train_logs_steps'],\n",
    "        limit_train_batches=config['train']['steps_per_epoch'],\n",
    "        num_sanity_val_steps=0,\n",
    "        callbacks=callbacks,\n",
    "        logger=loggers,\n",
    "        strategy=DataParallelStrategy(),\n",
    "        #plugins=DDPPlugin(find_unused_parameters=False),\n",
    "        precision=config['train'].get('precision', 32),\n",
    "    )\n",
    "    # If loaded from checkpoint - validate\n",
    "    if config.get('checkpoint') is not None:\n",
    "        trainer.validate(model, datamodule=dm, ckpt_path=config.get('checkpoint'))\n",
    "    trainer.fit(model, datamodule=dm, ckpt_path=config.get('checkpoint'))"
   ]
  },
  {
   "cell_type": "markdown",
   "id": "d7b5855e-1ea7-4ae2-858b-c5fcdd607ccd",
   "metadata": {},
   "source": [
    "##### Ensure torch in interactive python is working properly\n",
    "Sometimes, torch running inside of an interactive python environment fails to recognize cuda devices. If you have a cuda device you expect to be detected, run this to make sure that torch finds it. If this does not display the expected number of devices, especially if it detects none, try restarting the container that the interactive environment is running on."
   ]
  },
  {
   "cell_type": "code",
   "execution_count": 2,
   "id": "60642dca-8195-4740-a090-abff55094bb7",
   "metadata": {
    "tags": []
   },
   "outputs": [
    {
     "name": "stdout",
     "output_type": "stream",
     "text": [
      "Number of devices found:  1\n"
     ]
    }
   ],
   "source": [
    "print('Number of devices found: ', torch.cuda.device_count())"
   ]
  },
  {
   "cell_type": "markdown",
   "id": "0366791e-f2cd-4f1f-9ad4-a6b6d60cb83f",
   "metadata": {
    "tags": []
   },
   "source": [
    "\n",
    "Set the path to the config files you would like to use for training with realtime extraction and begin training in the interactive environment below. <br />Alternatively,\n",
    "<b>To launch train as a script with local feature extraction throughout training, run: </b>  \n",
    "```\n",
    "python train.py --config='config/config.yaml' --features_config='config/features_online/sift.yaml'\n",
    "```\n",
    "Note: sift is an example, you may use any of the config files present or one you create yourself. The Superpoint configs are reccommended.\n",
    "This will utilize DDPStrategy (Distributed Data Parallel), as opposed to DataParallelStrategy. In the interactive environment, DDPStrategy is incompatible, so DataParallelStrategy is used instead."
   ]
  },
  {
   "cell_type": "code",
   "execution_count": 3,
   "id": "e95677dc-b244-4230-82d5-25f5563ad260",
   "metadata": {
    "tags": []
   },
   "outputs": [
    {
     "name": "stderr",
     "output_type": "stream",
     "text": [
      "Global seed set to 0\n"
     ]
    },
    {
     "name": "stdout",
     "output_type": "stream",
     "text": [
      "/host_Data/Data/MegaDepth/MegaDepth/extracted_features/phoenix3 Superpoint_960_720 SuperPointNet__attn_softmax__laf_none__2022-06-15-22-32-17\n",
      "log path /host_Data/Data/MegaDepth/MegaDepth/extracted_features/phoenix3/Superpoint_960_720/SuperPointNet__attn_softmax__laf_none__2022-06-15-22-32-17\n",
      "<All keys matched successfully>\n"
     ]
    },
    {
     "name": "stderr",
     "output_type": "stream",
     "text": [
      "Failed to detect the name of this notebook, you can set it manually with the WANDB_NOTEBOOK_NAME environment variable to enable code saving.\n",
      "\u001b[34m\u001b[1mwandb\u001b[0m: Currently logged in as: \u001b[33mjlunder\u001b[0m. Use \u001b[1m`wandb login --relogin`\u001b[0m to force relogin\n"
     ]
    },
    {
     "data": {
      "text/html": [
       "Tracking run with wandb version 0.12.18"
      ],
      "text/plain": [
       "<IPython.core.display.HTML object>"
      ]
     },
     "metadata": {},
     "output_type": "display_data"
    },
    {
     "data": {
      "text/html": [
       "Run data is saved locally in <code>/workspace/code/test/OpenGlue/wandb/run-20220615_223218-1ne16uu1</code>"
      ],
      "text/plain": [
       "<IPython.core.display.HTML object>"
      ]
     },
     "metadata": {},
     "output_type": "display_data"
    },
    {
     "data": {
      "text/html": [
       "Syncing run <strong><a href=\"https://wandb.ai/jlunder/superglue/runs/1ne16uu1\" target=\"_blank\">SuperPointNet__attn_softmax__laf_none__2022-06-15-22-32-17</a></strong> to <a href=\"https://wandb.ai/jlunder/superglue\" target=\"_blank\">Weights & Biases</a> (<a href=\"https://wandb.me/run\" target=\"_blank\">docs</a>)<br/>"
      ],
      "text/plain": [
       "<IPython.core.display.HTML object>"
      ]
     },
     "metadata": {},
     "output_type": "display_data"
    },
    {
     "name": "stderr",
     "output_type": "stream",
     "text": [
      "GPU available: True, used: True\n",
      "TPU available: False, using: 0 TPU cores\n",
      "IPU available: False, using: 0 IPUs\n",
      "HPU available: False, using: 0 HPUs\n",
      "LOCAL_RANK: 0 - CUDA_VISIBLE_DEVICES: [0]\n",
      "\n",
      "  | Name                     | Type                      | Params\n",
      "-----------------------------------------------------------------------\n",
      "0 | local_features_extractor | SuperPointNet             | 1.3 M \n",
      "1 | superglue                | SuperGlue                 | 12.0 M\n",
      "2 | augmentations            | AugmentationSequential    | 0     \n",
      "3 | epipolar_dist_metric     | AccuracyUsingEpipolarDist | 0     \n",
      "4 | camera_pose_auc_metric   | CameraPoseAUC             | 0     \n",
      "-----------------------------------------------------------------------\n",
      "12.0 M    Trainable params\n",
      "1.3 M     Non-trainable params\n",
      "13.3 M    Total params\n",
      "53.032    Total estimated model params size (MB)\n"
     ]
    },
    {
     "name": "stdout",
     "output_type": "stream",
     "text": [
      "Epoch 0:  94%|█████████▍| 750/800 [03:40<00:14,  3.41it/s, loss=3.92, v_num=6uu1, Train NLL loss=3.170, Train Metric loss=0.000]\n",
      "Validation: 0it [00:00, ?it/s]\u001b[A\n",
      "Validation:   0%|          | 0/50 [00:00<?, ?it/s]\u001b[A\n",
      "Validation DataLoader 0:   0%|          | 0/50 [00:00<?, ?it/s]\u001b[A\n",
      "Epoch 0:  94%|█████████▍| 751/800 [03:40<00:14,  3.40it/s, loss=3.92, v_num=6uu1, Train NLL loss=3.170, Train Metric loss=0.000]\n",
      "Validation DataLoader 0:   4%|▍         | 2/50 [00:00<00:16,  2.86it/s]\u001b[A\n",
      "Epoch 0:  94%|█████████▍| 752/800 [03:41<00:14,  3.40it/s, loss=3.92, v_num=6uu1, Train NLL loss=3.170, Train Metric loss=0.000]\n",
      "Validation DataLoader 0:   6%|▌         | 3/50 [00:01<00:16,  2.85it/s]\u001b[A\n",
      "Epoch 0:  94%|█████████▍| 753/800 [03:41<00:13,  3.40it/s, loss=3.92, v_num=6uu1, Train NLL loss=3.170, Train Metric loss=0.000]\n",
      "Validation DataLoader 0:   8%|▊         | 4/50 [00:01<00:16,  2.86it/s]\u001b[A\n",
      "Epoch 0:  94%|█████████▍| 754/800 [03:42<00:13,  3.40it/s, loss=3.92, v_num=6uu1, Train NLL loss=3.170, Train Metric loss=0.000]\n",
      "Validation DataLoader 0:  10%|█         | 5/50 [00:02<00:22,  2.01it/s]\u001b[A\n",
      "Epoch 0:  94%|█████████▍| 755/800 [03:42<00:13,  3.39it/s, loss=3.92, v_num=6uu1, Train NLL loss=3.170, Train Metric loss=0.000]\n",
      "Validation DataLoader 0:  12%|█▏        | 6/50 [00:02<00:19,  2.24it/s]\u001b[A\n",
      "Epoch 0:  94%|█████████▍| 756/800 [03:43<00:12,  3.39it/s, loss=3.92, v_num=6uu1, Train NLL loss=3.170, Train Metric loss=0.000]\n",
      "Validation DataLoader 0:  14%|█▍        | 7/50 [00:03<00:20,  2.11it/s]\u001b[A\n",
      "Epoch 0:  95%|█████████▍| 757/800 [03:43<00:12,  3.38it/s, loss=3.92, v_num=6uu1, Train NLL loss=3.170, Train Metric loss=0.000]\n",
      "Validation DataLoader 0:  16%|█▌        | 8/50 [00:03<00:20,  2.05it/s]\u001b[A\n",
      "Epoch 0:  95%|█████████▍| 758/800 [03:44<00:12,  3.38it/s, loss=3.92, v_num=6uu1, Train NLL loss=3.170, Train Metric loss=0.000]\n",
      "Validation DataLoader 0:  18%|█▊        | 9/50 [00:04<00:21,  1.91it/s]\u001b[A\n",
      "Epoch 0:  95%|█████████▍| 759/800 [03:44<00:12,  3.38it/s, loss=3.92, v_num=6uu1, Train NLL loss=3.170, Train Metric loss=0.000]\n",
      "Validation DataLoader 0:  20%|██        | 10/50 [00:04<00:20,  1.91it/s]\u001b[A\n",
      "Epoch 0:  95%|█████████▌| 760/800 [03:45<00:11,  3.37it/s, loss=3.92, v_num=6uu1, Train NLL loss=3.170, Train Metric loss=0.000]\n",
      "Validation DataLoader 0:  22%|██▏       | 11/50 [00:05<00:18,  2.14it/s]\u001b[A\n",
      "Epoch 0:  95%|█████████▌| 761/800 [03:45<00:11,  3.37it/s, loss=3.92, v_num=6uu1, Train NLL loss=3.170, Train Metric loss=0.000]\n",
      "Validation DataLoader 0:  24%|██▍       | 12/50 [00:05<00:16,  2.25it/s]\u001b[A\n",
      "Epoch 0:  95%|█████████▌| 762/800 [03:46<00:11,  3.37it/s, loss=3.92, v_num=6uu1, Train NLL loss=3.170, Train Metric loss=0.000]\n",
      "Validation DataLoader 0:  26%|██▌       | 13/50 [00:06<00:17,  2.06it/s]\u001b[A\n",
      "Epoch 0:  95%|█████████▌| 763/800 [03:46<00:10,  3.37it/s, loss=3.92, v_num=6uu1, Train NLL loss=3.170, Train Metric loss=0.000]\n",
      "Validation DataLoader 0:  28%|██▊       | 14/50 [00:06<00:16,  2.17it/s]\u001b[A\n",
      "Epoch 0:  96%|█████████▌| 764/800 [03:47<00:10,  3.36it/s, loss=3.92, v_num=6uu1, Train NLL loss=3.170, Train Metric loss=0.000]\n",
      "Validation DataLoader 0:  30%|███       | 15/50 [00:06<00:16,  2.17it/s]\u001b[A\n",
      "Epoch 0:  96%|█████████▌| 765/800 [03:47<00:10,  3.36it/s, loss=3.92, v_num=6uu1, Train NLL loss=3.170, Train Metric loss=0.000]\n",
      "Validation DataLoader 0:  32%|███▏      | 16/50 [00:07<00:16,  2.12it/s]\u001b[A\n",
      "Epoch 0:  96%|█████████▌| 766/800 [03:48<00:10,  3.36it/s, loss=3.92, v_num=6uu1, Train NLL loss=3.170, Train Metric loss=0.000]\n",
      "Validation DataLoader 0:  34%|███▍      | 17/50 [00:07<00:14,  2.33it/s]\u001b[A\n",
      "Epoch 0:  96%|█████████▌| 767/800 [03:48<00:09,  3.36it/s, loss=3.92, v_num=6uu1, Train NLL loss=3.170, Train Metric loss=0.000]\n",
      "Validation DataLoader 0:  36%|███▌      | 18/50 [00:08<00:16,  1.97it/s]\u001b[A\n",
      "Epoch 0:  96%|█████████▌| 768/800 [03:49<00:09,  3.35it/s, loss=3.92, v_num=6uu1, Train NLL loss=3.170, Train Metric loss=0.000]\n",
      "Validation DataLoader 0:  38%|███▊      | 19/50 [00:08<00:14,  2.08it/s]\u001b[A\n",
      "Epoch 0:  96%|█████████▌| 769/800 [03:49<00:09,  3.35it/s, loss=3.92, v_num=6uu1, Train NLL loss=3.170, Train Metric loss=0.000]\n",
      "Validation DataLoader 0:  40%|████      | 20/50 [00:09<00:14,  2.03it/s]\u001b[A\n",
      "Epoch 0:  96%|█████████▋| 770/800 [03:50<00:08,  3.35it/s, loss=3.92, v_num=6uu1, Train NLL loss=3.170, Train Metric loss=0.000]\n",
      "Validation DataLoader 0:  42%|████▏     | 21/50 [00:09<00:13,  2.08it/s]\u001b[A\n",
      "Epoch 0:  96%|█████████▋| 771/800 [03:50<00:08,  3.35it/s, loss=3.92, v_num=6uu1, Train NLL loss=3.170, Train Metric loss=0.000]\n",
      "Validation DataLoader 0:  44%|████▍     | 22/50 [00:10<00:11,  2.45it/s]\u001b[A\n",
      "Epoch 0:  96%|█████████▋| 772/800 [03:50<00:08,  3.35it/s, loss=3.92, v_num=6uu1, Train NLL loss=3.170, Train Metric loss=0.000]\n",
      "Validation DataLoader 0:  46%|████▌     | 23/50 [00:10<00:10,  2.46it/s]\u001b[A\n",
      "Epoch 0:  97%|█████████▋| 773/800 [03:51<00:08,  3.34it/s, loss=3.92, v_num=6uu1, Train NLL loss=3.170, Train Metric loss=0.000]\n",
      "Validation DataLoader 0:  48%|████▊     | 24/50 [00:10<00:10,  2.43it/s]\u001b[A\n",
      "Epoch 0:  97%|█████████▋| 774/800 [03:51<00:07,  3.34it/s, loss=3.92, v_num=6uu1, Train NLL loss=3.170, Train Metric loss=0.000]\n",
      "Validation DataLoader 0:  50%|█████     | 25/50 [00:11<00:11,  2.20it/s]\u001b[A\n",
      "Epoch 0:  97%|█████████▋| 775/800 [03:52<00:07,  3.34it/s, loss=3.92, v_num=6uu1, Train NLL loss=3.170, Train Metric loss=0.000]\n",
      "Validation DataLoader 0:  52%|█████▏    | 26/50 [00:11<00:10,  2.34it/s]\u001b[A\n",
      "Epoch 0:  97%|█████████▋| 776/800 [03:52<00:07,  3.34it/s, loss=3.92, v_num=6uu1, Train NLL loss=3.170, Train Metric loss=0.000]\n",
      "Validation DataLoader 0:  54%|█████▍    | 27/50 [00:12<00:08,  2.56it/s]\u001b[A\n",
      "Epoch 0:  97%|█████████▋| 777/800 [03:52<00:06,  3.34it/s, loss=3.92, v_num=6uu1, Train NLL loss=3.170, Train Metric loss=0.000]\n",
      "Validation DataLoader 0:  56%|█████▌    | 28/50 [00:12<00:08,  2.59it/s]\u001b[A\n",
      "Epoch 0:  97%|█████████▋| 778/800 [03:53<00:06,  3.34it/s, loss=3.92, v_num=6uu1, Train NLL loss=3.170, Train Metric loss=0.000]\n",
      "Validation DataLoader 0:  58%|█████▊    | 29/50 [00:12<00:08,  2.39it/s]\u001b[A\n",
      "Epoch 0:  97%|█████████▋| 779/800 [03:53<00:06,  3.33it/s, loss=3.92, v_num=6uu1, Train NLL loss=3.170, Train Metric loss=0.000]\n",
      "Validation DataLoader 0:  60%|██████    | 30/50 [00:13<00:09,  2.15it/s]\u001b[A\n",
      "Epoch 0:  98%|█████████▊| 780/800 [03:54<00:06,  3.33it/s, loss=3.92, v_num=6uu1, Train NLL loss=3.170, Train Metric loss=0.000]\n",
      "Validation DataLoader 0:  62%|██████▏   | 31/50 [00:13<00:08,  2.15it/s]\u001b[A\n",
      "Epoch 0:  98%|█████████▊| 781/800 [03:54<00:05,  3.33it/s, loss=3.92, v_num=6uu1, Train NLL loss=3.170, Train Metric loss=0.000]\n",
      "Validation DataLoader 0:  64%|██████▍   | 32/50 [00:14<00:08,  2.11it/s]\u001b[A\n",
      "Epoch 0:  98%|█████████▊| 782/800 [03:55<00:05,  3.33it/s, loss=3.92, v_num=6uu1, Train NLL loss=3.170, Train Metric loss=0.000]\n",
      "Validation DataLoader 0:  66%|██████▌   | 33/50 [00:14<00:08,  2.09it/s]\u001b[A\n",
      "Epoch 0:  98%|█████████▊| 783/800 [03:55<00:05,  3.32it/s, loss=3.92, v_num=6uu1, Train NLL loss=3.170, Train Metric loss=0.000]\n",
      "Validation DataLoader 0:  68%|██████▊   | 34/50 [00:15<00:06,  2.32it/s]\u001b[A\n",
      "Epoch 0:  98%|█████████▊| 784/800 [03:55<00:04,  3.32it/s, loss=3.92, v_num=6uu1, Train NLL loss=3.170, Train Metric loss=0.000]\n",
      "Validation DataLoader 0:  70%|███████   | 35/50 [00:15<00:06,  2.26it/s]\u001b[A\n",
      "Epoch 0:  98%|█████████▊| 785/800 [03:56<00:04,  3.32it/s, loss=3.92, v_num=6uu1, Train NLL loss=3.170, Train Metric loss=0.000]\n",
      "Validation DataLoader 0:  72%|███████▏  | 36/50 [00:16<00:05,  2.54it/s]\u001b[A\n",
      "Epoch 0:  98%|█████████▊| 786/800 [03:56<00:04,  3.32it/s, loss=3.92, v_num=6uu1, Train NLL loss=3.170, Train Metric loss=0.000]\n",
      "Validation DataLoader 0:  74%|███████▍  | 37/50 [00:16<00:05,  2.51it/s]\u001b[A\n",
      "Epoch 0:  98%|█████████▊| 787/800 [03:57<00:03,  3.32it/s, loss=3.92, v_num=6uu1, Train NLL loss=3.170, Train Metric loss=0.000]\n",
      "Validation DataLoader 0:  76%|███████▌  | 38/50 [00:16<00:05,  2.26it/s]\u001b[A\n",
      "Epoch 0:  98%|█████████▊| 788/800 [03:57<00:03,  3.32it/s, loss=3.92, v_num=6uu1, Train NLL loss=3.170, Train Metric loss=0.000]\n",
      "Validation DataLoader 0:  78%|███████▊  | 39/50 [00:17<00:04,  2.33it/s]\u001b[A\n",
      "Epoch 0:  99%|█████████▊| 789/800 [03:58<00:03,  3.31it/s, loss=3.92, v_num=6uu1, Train NLL loss=3.170, Train Metric loss=0.000]\n",
      "Validation DataLoader 0:  80%|████████  | 40/50 [00:17<00:04,  2.49it/s]\u001b[A\n",
      "Epoch 0:  99%|█████████▉| 790/800 [03:58<00:03,  3.31it/s, loss=3.92, v_num=6uu1, Train NLL loss=3.170, Train Metric loss=0.000]\n",
      "Validation DataLoader 0:  82%|████████▏ | 41/50 [00:18<00:03,  2.61it/s]\u001b[A\n",
      "Epoch 0:  99%|█████████▉| 791/800 [03:58<00:02,  3.31it/s, loss=3.92, v_num=6uu1, Train NLL loss=3.170, Train Metric loss=0.000]\n",
      "Validation DataLoader 0:  84%|████████▍ | 42/50 [00:18<00:03,  2.54it/s]\u001b[A\n",
      "Epoch 0:  99%|█████████▉| 792/800 [03:59<00:02,  3.31it/s, loss=3.92, v_num=6uu1, Train NLL loss=3.170, Train Metric loss=0.000]\n",
      "Validation DataLoader 0:  86%|████████▌ | 43/50 [00:19<00:03,  1.89it/s]\u001b[A\n",
      "Epoch 0:  99%|█████████▉| 793/800 [04:00<00:02,  3.30it/s, loss=3.92, v_num=6uu1, Train NLL loss=3.170, Train Metric loss=0.000]\n",
      "Validation DataLoader 0:  88%|████████▊ | 44/50 [00:19<00:02,  2.02it/s]\u001b[A\n",
      "Epoch 0:  99%|█████████▉| 794/800 [04:00<00:01,  3.30it/s, loss=3.92, v_num=6uu1, Train NLL loss=3.170, Train Metric loss=0.000]\n",
      "Validation DataLoader 0:  90%|█████████ | 45/50 [00:20<00:02,  2.17it/s]\u001b[A\n",
      "Epoch 0:  99%|█████████▉| 795/800 [04:00<00:01,  3.30it/s, loss=3.92, v_num=6uu1, Train NLL loss=3.170, Train Metric loss=0.000]\n",
      "Validation DataLoader 0:  92%|█████████▏| 46/50 [00:20<00:01,  2.73it/s]\u001b[A\n",
      "Epoch 0: 100%|█████████▉| 796/800 [04:00<00:01,  3.30it/s, loss=3.92, v_num=6uu1, Train NLL loss=3.170, Train Metric loss=0.000]\n",
      "Validation DataLoader 0:  94%|█████████▍| 47/50 [00:20<00:01,  2.45it/s]\u001b[A\n",
      "Epoch 0: 100%|█████████▉| 797/800 [04:01<00:00,  3.30it/s, loss=3.92, v_num=6uu1, Train NLL loss=3.170, Train Metric loss=0.000]\n",
      "Validation DataLoader 0:  96%|█████████▌| 48/50 [00:21<00:00,  2.16it/s]\u001b[A\n",
      "Epoch 0: 100%|█████████▉| 798/800 [04:02<00:00,  3.30it/s, loss=3.92, v_num=6uu1, Train NLL loss=3.170, Train Metric loss=0.000]\n",
      "Validation DataLoader 0:  98%|█████████▊| 49/50 [00:21<00:00,  2.00it/s]\u001b[A\n",
      "Epoch 0: 100%|█████████▉| 799/800 [04:02<00:00,  3.29it/s, loss=3.92, v_num=6uu1, Train NLL loss=3.170, Train Metric loss=0.000]\n",
      "Validation DataLoader 0: 100%|██████████| 50/50 [00:22<00:00,  2.03it/s]\u001b[A\n",
      "Epoch 0: 100%|██████████| 800/800 [04:03<00:00,  3.29it/s, loss=3.92, v_num=6uu1, Train NLL loss=3.170, Train Metric loss=0.000]\n",
      "Epoch 1:  94%|█████████▍| 750/800 [03:53<00:15,  3.22it/s, loss=nan, v_num=6uu1, Train NLL loss=nan.0, Train Metric loss=0.000] \n",
      "Validation: 0it [00:00, ?it/s]\u001b[A\n",
      "Validation:   0%|          | 0/50 [00:00<?, ?it/s]\u001b[A\n",
      "Validation DataLoader 0:   0%|          | 0/50 [00:00<?, ?it/s]\u001b[A\n",
      "Epoch 1:  94%|█████████▍| 751/800 [03:53<00:15,  3.21it/s, loss=nan, v_num=6uu1, Train NLL loss=nan.0, Train Metric loss=0.000]\n",
      "Validation DataLoader 0:   4%|▍         | 2/50 [00:00<00:15,  3.12it/s]\u001b[A\n",
      "Epoch 1:  94%|█████████▍| 752/800 [03:54<00:14,  3.21it/s, loss=nan, v_num=6uu1, Train NLL loss=nan.0, Train Metric loss=0.000]\n",
      "Validation DataLoader 0:   6%|▌         | 3/50 [00:01<00:16,  2.93it/s]\u001b[A\n",
      "Epoch 1:  94%|█████████▍| 753/800 [03:54<00:14,  3.21it/s, loss=nan, v_num=6uu1, Train NLL loss=nan.0, Train Metric loss=0.000]\n",
      "Validation DataLoader 0:   8%|▊         | 4/50 [00:01<00:19,  2.31it/s]\u001b[A\n",
      "Epoch 1:  94%|█████████▍| 754/800 [03:55<00:14,  3.20it/s, loss=nan, v_num=6uu1, Train NLL loss=nan.0, Train Metric loss=0.000]\n",
      "Validation DataLoader 0:  10%|█         | 5/50 [00:01<00:18,  2.41it/s]\u001b[A\n",
      "Epoch 1:  94%|█████████▍| 755/800 [03:55<00:14,  3.20it/s, loss=nan, v_num=6uu1, Train NLL loss=nan.0, Train Metric loss=0.000]\n",
      "Validation DataLoader 0:  12%|█▏        | 6/50 [00:02<00:20,  2.19it/s]\u001b[A\n",
      "Epoch 1:  94%|█████████▍| 756/800 [03:56<00:13,  3.20it/s, loss=nan, v_num=6uu1, Train NLL loss=nan.0, Train Metric loss=0.000]\n",
      "Validation DataLoader 0:  14%|█▍        | 7/50 [00:02<00:17,  2.40it/s]\u001b[A\n",
      "Epoch 1:  95%|█████████▍| 757/800 [03:56<00:13,  3.20it/s, loss=nan, v_num=6uu1, Train NLL loss=nan.0, Train Metric loss=0.000]\n",
      "Validation DataLoader 0:  16%|█▌        | 8/50 [00:03<00:15,  2.63it/s]\u001b[A\n",
      "Epoch 1:  95%|█████████▍| 758/800 [03:57<00:13,  3.20it/s, loss=nan, v_num=6uu1, Train NLL loss=nan.0, Train Metric loss=0.000]\n",
      "Validation DataLoader 0:  18%|█▊        | 9/50 [00:03<00:16,  2.54it/s]\u001b[A\n",
      "Epoch 1:  95%|█████████▍| 759/800 [03:57<00:12,  3.20it/s, loss=nan, v_num=6uu1, Train NLL loss=nan.0, Train Metric loss=0.000]\n",
      "Validation DataLoader 0:  20%|██        | 10/50 [00:03<00:15,  2.65it/s]\u001b[A\n",
      "Epoch 1:  95%|█████████▌| 760/800 [03:57<00:12,  3.20it/s, loss=nan, v_num=6uu1, Train NLL loss=nan.0, Train Metric loss=0.000]\n",
      "Validation DataLoader 0:  22%|██▏       | 11/50 [00:04<00:17,  2.23it/s]\u001b[A\n",
      "Epoch 1:  95%|█████████▌| 761/800 [03:58<00:12,  3.19it/s, loss=nan, v_num=6uu1, Train NLL loss=nan.0, Train Metric loss=0.000]\n",
      "Validation DataLoader 0:  24%|██▍       | 12/50 [00:05<00:17,  2.16it/s]\u001b[A\n",
      "Epoch 1:  95%|█████████▌| 762/800 [03:58<00:11,  3.19it/s, loss=nan, v_num=6uu1, Train NLL loss=nan.0, Train Metric loss=0.000]\n",
      "Validation DataLoader 0:  26%|██▌       | 13/50 [00:05<00:16,  2.23it/s]\u001b[A\n",
      "Epoch 1:  95%|█████████▌| 763/800 [03:59<00:11,  3.19it/s, loss=nan, v_num=6uu1, Train NLL loss=nan.0, Train Metric loss=0.000]\n",
      "Validation DataLoader 0:  28%|██▊       | 14/50 [00:05<00:14,  2.46it/s]\u001b[A\n",
      "Epoch 1:  96%|█████████▌| 764/800 [03:59<00:11,  3.19it/s, loss=nan, v_num=6uu1, Train NLL loss=nan.0, Train Metric loss=0.000]\n",
      "Validation DataLoader 0:  30%|███       | 15/50 [00:06<00:12,  2.71it/s]\u001b[A\n",
      "Epoch 1:  96%|█████████▌| 765/800 [03:59<00:10,  3.19it/s, loss=nan, v_num=6uu1, Train NLL loss=nan.0, Train Metric loss=0.000]\n",
      "Validation DataLoader 0:  32%|███▏      | 16/50 [00:06<00:12,  2.62it/s]\u001b[A\n",
      "Epoch 1:  96%|█████████▌| 766/800 [04:00<00:10,  3.19it/s, loss=nan, v_num=6uu1, Train NLL loss=nan.0, Train Metric loss=0.000]\n",
      "Validation DataLoader 0:  34%|███▍      | 17/50 [00:06<00:11,  2.82it/s]\u001b[A\n",
      "Epoch 1:  96%|█████████▌| 767/800 [04:00<00:10,  3.19it/s, loss=nan, v_num=6uu1, Train NLL loss=nan.0, Train Metric loss=0.000]\n",
      "Validation DataLoader 0:  36%|███▌      | 18/50 [00:07<00:10,  2.95it/s]\u001b[A\n",
      "Epoch 1:  96%|█████████▌| 768/800 [04:00<00:10,  3.19it/s, loss=nan, v_num=6uu1, Train NLL loss=nan.0, Train Metric loss=0.000]\n",
      "Validation DataLoader 0:  38%|███▊      | 19/50 [00:07<00:09,  3.13it/s]\u001b[A\n",
      "Epoch 1:  96%|█████████▌| 769/800 [04:01<00:09,  3.19it/s, loss=nan, v_num=6uu1, Train NLL loss=nan.0, Train Metric loss=0.000]\n",
      "Validation DataLoader 0:  40%|████      | 20/50 [00:07<00:09,  3.27it/s]\u001b[A\n",
      "Epoch 1:  96%|█████████▋| 770/800 [04:01<00:09,  3.19it/s, loss=nan, v_num=6uu1, Train NLL loss=nan.0, Train Metric loss=0.000]\n",
      "Validation DataLoader 0:  42%|████▏     | 21/50 [00:07<00:08,  3.23it/s]\u001b[A\n",
      "Epoch 1:  96%|█████████▋| 771/800 [04:01<00:09,  3.19it/s, loss=nan, v_num=6uu1, Train NLL loss=nan.0, Train Metric loss=0.000]\n",
      "Validation DataLoader 0:  44%|████▍     | 22/50 [00:08<00:08,  3.41it/s]\u001b[A\n",
      "Epoch 1:  96%|█████████▋| 772/800 [04:02<00:08,  3.19it/s, loss=nan, v_num=6uu1, Train NLL loss=nan.0, Train Metric loss=0.000]\n",
      "Validation DataLoader 0:  46%|████▌     | 23/50 [00:08<00:10,  2.53it/s]\u001b[A\n",
      "Epoch 1:  97%|█████████▋| 773/800 [04:02<00:08,  3.19it/s, loss=nan, v_num=6uu1, Train NLL loss=nan.0, Train Metric loss=0.000]\n",
      "Validation DataLoader 0:  48%|████▊     | 24/50 [00:09<00:09,  2.64it/s]\u001b[A\n",
      "Epoch 1:  97%|█████████▋| 774/800 [04:03<00:08,  3.18it/s, loss=nan, v_num=6uu1, Train NLL loss=nan.0, Train Metric loss=0.000]\n",
      "Validation DataLoader 0:  50%|█████     | 25/50 [00:09<00:09,  2.74it/s]\u001b[A\n",
      "Epoch 1:  97%|█████████▋| 775/800 [04:03<00:07,  3.18it/s, loss=nan, v_num=6uu1, Train NLL loss=nan.0, Train Metric loss=0.000]\n",
      "Validation DataLoader 0:  52%|█████▏    | 26/50 [00:09<00:08,  2.78it/s]\u001b[A\n",
      "Epoch 1:  97%|█████████▋| 776/800 [04:03<00:07,  3.18it/s, loss=nan, v_num=6uu1, Train NLL loss=nan.0, Train Metric loss=0.000]\n",
      "Validation DataLoader 0:  54%|█████▍    | 27/50 [00:10<00:07,  3.12it/s]\u001b[A\n",
      "Epoch 1:  97%|█████████▋| 777/800 [04:03<00:07,  3.19it/s, loss=nan, v_num=6uu1, Train NLL loss=nan.0, Train Metric loss=0.000]\n",
      "Validation DataLoader 0:  56%|█████▌    | 28/50 [00:10<00:07,  2.99it/s]\u001b[A\n",
      "Epoch 1:  97%|█████████▋| 778/800 [04:04<00:06,  3.18it/s, loss=nan, v_num=6uu1, Train NLL loss=nan.0, Train Metric loss=0.000]\n",
      "Validation DataLoader 0:  58%|█████▊    | 29/50 [00:10<00:06,  3.09it/s]\u001b[A\n",
      "Epoch 1:  97%|█████████▋| 779/800 [04:04<00:06,  3.18it/s, loss=nan, v_num=6uu1, Train NLL loss=nan.0, Train Metric loss=0.000]\n",
      "Validation DataLoader 0:  60%|██████    | 30/50 [00:11<00:06,  2.98it/s]\u001b[A\n",
      "Epoch 1:  98%|█████████▊| 780/800 [04:04<00:06,  3.18it/s, loss=nan, v_num=6uu1, Train NLL loss=nan.0, Train Metric loss=0.000]\n",
      "Validation DataLoader 0:  62%|██████▏   | 31/50 [00:11<00:06,  2.83it/s]\u001b[A\n",
      "Epoch 1:  98%|█████████▊| 781/800 [04:05<00:05,  3.18it/s, loss=nan, v_num=6uu1, Train NLL loss=nan.0, Train Metric loss=0.000]\n",
      "Validation DataLoader 0:  64%|██████▍   | 32/50 [00:12<00:08,  2.19it/s]\u001b[A\n",
      "Epoch 1:  98%|█████████▊| 782/800 [04:06<00:05,  3.18it/s, loss=nan, v_num=6uu1, Train NLL loss=nan.0, Train Metric loss=0.000]\n",
      "Validation DataLoader 0:  66%|██████▌   | 33/50 [00:12<00:09,  1.81it/s]\u001b[A\n",
      "Epoch 1:  98%|█████████▊| 783/800 [04:06<00:05,  3.17it/s, loss=nan, v_num=6uu1, Train NLL loss=nan.0, Train Metric loss=0.000]\n",
      "Validation DataLoader 0:  68%|██████▊   | 34/50 [00:13<00:09,  1.61it/s]\u001b[A\n",
      "Epoch 1:  98%|█████████▊| 784/800 [04:07<00:05,  3.17it/s, loss=nan, v_num=6uu1, Train NLL loss=nan.0, Train Metric loss=0.000]\n",
      "Validation DataLoader 0:  70%|███████   | 35/50 [00:14<00:09,  1.63it/s]\u001b[A\n",
      "Epoch 1:  98%|█████████▊| 785/800 [04:08<00:04,  3.16it/s, loss=nan, v_num=6uu1, Train NLL loss=nan.0, Train Metric loss=0.000]\n",
      "Validation DataLoader 0:  72%|███████▏  | 36/50 [00:14<00:07,  1.82it/s]\u001b[A\n",
      "Epoch 1:  98%|█████████▊| 786/800 [04:08<00:04,  3.16it/s, loss=nan, v_num=6uu1, Train NLL loss=nan.0, Train Metric loss=0.000]\n",
      "Validation DataLoader 0:  74%|███████▍  | 37/50 [00:15<00:06,  1.94it/s]\u001b[A\n",
      "Epoch 1:  98%|█████████▊| 787/800 [04:09<00:04,  3.16it/s, loss=nan, v_num=6uu1, Train NLL loss=nan.0, Train Metric loss=0.000]\n",
      "Validation DataLoader 0:  76%|███████▌  | 38/50 [00:15<00:05,  2.02it/s]\u001b[A\n",
      "Epoch 1:  98%|█████████▊| 788/800 [04:09<00:03,  3.16it/s, loss=nan, v_num=6uu1, Train NLL loss=nan.0, Train Metric loss=0.000]\n",
      "Validation DataLoader 0:  78%|███████▊  | 39/50 [00:15<00:05,  2.18it/s]\u001b[A\n",
      "Epoch 1:  99%|█████████▊| 789/800 [04:09<00:03,  3.16it/s, loss=nan, v_num=6uu1, Train NLL loss=nan.0, Train Metric loss=0.000]\n",
      "Validation DataLoader 0:  80%|████████  | 40/50 [00:16<00:04,  2.14it/s]\u001b[A\n",
      "Epoch 1:  99%|█████████▉| 790/800 [04:10<00:03,  3.16it/s, loss=nan, v_num=6uu1, Train NLL loss=nan.0, Train Metric loss=0.000]\n",
      "Validation DataLoader 0:  82%|████████▏ | 41/50 [00:17<00:04,  1.99it/s]\u001b[A\n",
      "Epoch 1:  99%|█████████▉| 791/800 [04:10<00:02,  3.15it/s, loss=nan, v_num=6uu1, Train NLL loss=nan.0, Train Metric loss=0.000]\n",
      "Validation DataLoader 0:  84%|████████▍ | 42/50 [00:17<00:03,  2.25it/s]\u001b[A\n",
      "Epoch 1:  99%|█████████▉| 792/800 [04:11<00:02,  3.15it/s, loss=nan, v_num=6uu1, Train NLL loss=nan.0, Train Metric loss=0.000]\n",
      "Validation DataLoader 0:  86%|████████▌ | 43/50 [00:17<00:02,  2.36it/s]\u001b[A\n",
      "Epoch 1:  99%|█████████▉| 793/800 [04:11<00:02,  3.15it/s, loss=nan, v_num=6uu1, Train NLL loss=nan.0, Train Metric loss=0.000]\n",
      "Validation DataLoader 0:  88%|████████▊ | 44/50 [00:18<00:02,  2.36it/s]\u001b[A\n",
      "Epoch 1:  99%|█████████▉| 794/800 [04:12<00:01,  3.15it/s, loss=nan, v_num=6uu1, Train NLL loss=nan.0, Train Metric loss=0.000]\n",
      "Validation DataLoader 0:  90%|█████████ | 45/50 [00:18<00:01,  2.52it/s]\u001b[A\n",
      "Epoch 1:  99%|█████████▉| 795/800 [04:12<00:01,  3.15it/s, loss=nan, v_num=6uu1, Train NLL loss=nan.0, Train Metric loss=0.000]\n",
      "Validation DataLoader 0:  92%|█████████▏| 46/50 [00:18<00:01,  2.72it/s]\u001b[A\n",
      "Epoch 1: 100%|█████████▉| 796/800 [04:12<00:01,  3.15it/s, loss=nan, v_num=6uu1, Train NLL loss=nan.0, Train Metric loss=0.000]\n",
      "Validation DataLoader 0:  94%|█████████▍| 47/50 [00:19<00:01,  2.79it/s]\u001b[A\n",
      "Epoch 1: 100%|█████████▉| 797/800 [04:13<00:00,  3.15it/s, loss=nan, v_num=6uu1, Train NLL loss=nan.0, Train Metric loss=0.000]\n",
      "Validation DataLoader 0:  96%|█████████▌| 48/50 [00:19<00:00,  2.30it/s]\u001b[A\n",
      "Epoch 1: 100%|█████████▉| 798/800 [04:13<00:00,  3.15it/s, loss=nan, v_num=6uu1, Train NLL loss=nan.0, Train Metric loss=0.000]\n",
      "Validation DataLoader 0:  98%|█████████▊| 49/50 [00:20<00:00,  2.30it/s]\u001b[A\n",
      "Epoch 1: 100%|█████████▉| 799/800 [04:14<00:00,  3.14it/s, loss=nan, v_num=6uu1, Train NLL loss=nan.0, Train Metric loss=0.000]\n",
      "Validation DataLoader 0: 100%|██████████| 50/50 [00:20<00:00,  2.49it/s]\u001b[A\n",
      "Epoch 1: 100%|██████████| 800/800 [04:14<00:00,  3.14it/s, loss=nan, v_num=6uu1, Train NLL loss=nan.0, Train Metric loss=0.000]\n",
      "Epoch 1: 100%|██████████| 800/800 [04:15<00:00,  3.14it/s, loss=nan, v_num=6uu1, Train NLL loss=nan.0, Train Metric loss=0.000]\n"
     ]
    }
   ],
   "source": [
    "\n",
    "features_config_path = './config/features_online/superpoint_magicleap.yaml'\n",
    "config_path = './config/config.yaml'\n",
    "train(config_path, features_config_path)"
   ]
  },
  {
   "cell_type": "code",
   "execution_count": null,
   "id": "34a8b553-8d53-45ba-a4d8-820f6da83a4d",
   "metadata": {},
   "outputs": [],
   "source": []
  }
 ],
 "metadata": {
  "kernelspec": {
   "display_name": "(venv) OpenGlue",
   "language": "python",
   "name": "openglue"
  },
  "language_info": {
   "codemirror_mode": {
    "name": "ipython",
    "version": 3
   },
   "file_extension": ".py",
   "mimetype": "text/x-python",
   "name": "python",
   "nbconvert_exporter": "python",
   "pygments_lexer": "ipython3",
   "version": "3.8.10"
  }
 },
 "nbformat": 4,
 "nbformat_minor": 5
}
